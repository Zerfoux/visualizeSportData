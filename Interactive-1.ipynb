{
 "cells": [
  {
   "cell_type": "markdown",
   "metadata": {
    "isInteractiveWindowMessageCell": true
   },
   "source": [
    "Connected to Python 3.11.5"
   ]
  },
  {
   "cell_type": "code",
   "execution_count": 1,
   "metadata": {},
   "outputs": [],
   "source": [
    "import matplotlib.pyplot as plt\n",
    "import numpy as np\n",
    "import pandas as pd"
   ]
  },
  {
   "cell_type": "code",
   "execution_count": 2,
   "metadata": {},
   "outputs": [],
   "source": [
    "import matplotlib.pyplot as plt\n",
    "import numpy as np\n",
    "import pandas as pd"
   ]
  },
  {
   "cell_type": "code",
   "execution_count": 3,
   "metadata": {},
   "outputs": [],
   "source": [
    "data = pd.read_csv(\"sportData.csv\", delimiter=';')"
   ]
  },
  {
   "cell_type": "code",
   "execution_count": 4,
   "metadata": {},
   "outputs": [
    {
     "name": "stderr",
     "output_type": "stream",
     "text": [
      "<ipython-input-4-09cdb045af1f>:2: FutureWarning: Series.fillna with 'method' is deprecated and will raise in a future version. Use obj.ffill() or obj.bfill() instead.\n",
      "  data['group'].fillna(method='ffill', inplace=True)\n",
      "<ipython-input-4-09cdb045af1f>:4: FutureWarning: Series.fillna with 'method' is deprecated and will raise in a future version. Use obj.ffill() or obj.bfill() instead.\n",
      "  data['date'].fillna(method='ffill', inplace=True)\n"
     ]
    },
    {
     "ename": "KeyError",
     "evalue": "'excercise'",
     "output_type": "error",
     "traceback": [
      "\u001b[1;31m---------------------------------------------------------------------------\u001b[0m",
      "\u001b[1;31mKeyError\u001b[0m                                  Traceback (most recent call last)",
      "File \u001b[1;32m~\\AppData\\Roaming\\Python\\Python311\\site-packages\\pandas\\core\\indexes\\base.py:3790\u001b[0m, in \u001b[0;36mIndex.get_loc\u001b[1;34m(self, key)\u001b[0m\n\u001b[0;32m   <a href='file:///c%3A/Users/User/AppData/Roaming/Python/Python311/site-packages/pandas/core/indexes/base.py?line=3788'>3789</a>\u001b[0m \u001b[39mtry\u001b[39;00m:\n\u001b[1;32m-> <a href='file:///c%3A/Users/User/AppData/Roaming/Python/Python311/site-packages/pandas/core/indexes/base.py?line=3789'>3790</a>\u001b[0m     \u001b[39mreturn\u001b[39;00m \u001b[39mself\u001b[39;49m\u001b[39m.\u001b[39;49m_engine\u001b[39m.\u001b[39;49mget_loc(casted_key)\n\u001b[0;32m   <a href='file:///c%3A/Users/User/AppData/Roaming/Python/Python311/site-packages/pandas/core/indexes/base.py?line=3790'>3791</a>\u001b[0m \u001b[39mexcept\u001b[39;00m \u001b[39mKeyError\u001b[39;00m \u001b[39mas\u001b[39;00m err:\n",
      "File \u001b[1;32mindex.pyx:152\u001b[0m, in \u001b[0;36mpandas._libs.index.IndexEngine.get_loc\u001b[1;34m()\u001b[0m\n",
      "File \u001b[1;32mindex.pyx:181\u001b[0m, in \u001b[0;36mpandas._libs.index.IndexEngine.get_loc\u001b[1;34m()\u001b[0m\n",
      "File \u001b[1;32mpandas\\_libs\\hashtable_class_helper.pxi:7080\u001b[0m, in \u001b[0;36mpandas._libs.hashtable.PyObjectHashTable.get_item\u001b[1;34m()\u001b[0m\n",
      "File \u001b[1;32mpandas\\_libs\\hashtable_class_helper.pxi:7088\u001b[0m, in \u001b[0;36mpandas._libs.hashtable.PyObjectHashTable.get_item\u001b[1;34m()\u001b[0m\n",
      "\u001b[1;31mKeyError\u001b[0m: 'excercise'",
      "\nThe above exception was the direct cause of the following exception:\n",
      "\u001b[1;31mKeyError\u001b[0m                                  Traceback (most recent call last)",
      "\u001b[1;32mc:\\Users\\User\\Documents\\personal\\Version2\\Python\\visualizeSportData\\visualplotter.py\u001b[0m in \u001b[0;36mline 8\n\u001b[0;32m      <a href='file:///c%3A/Users/User/Documents/personal/Version2/Python/visualizeSportData/visualplotter.py?line=12'>13</a>\u001b[0m data[\u001b[39m'\u001b[39m\u001b[39mdate\u001b[39m\u001b[39m'\u001b[39m]\u001b[39m.\u001b[39mfillna(method\u001b[39m=\u001b[39m\u001b[39m'\u001b[39m\u001b[39mffill\u001b[39m\u001b[39m'\u001b[39m, inplace\u001b[39m=\u001b[39m\u001b[39mTrue\u001b[39;00m)\n\u001b[0;32m      <a href='file:///c%3A/Users/User/Documents/personal/Version2/Python/visualizeSportData/visualplotter.py?line=15'>16</a>\u001b[0m \u001b[39m#find all value of 'date' column where column 'excerciece' is 'run'\u001b[39;00m\n\u001b[1;32m----> <a href='file:///c%3A/Users/User/Documents/personal/Version2/Python/visualizeSportData/visualplotter.py?line=16'>17</a>\u001b[0m run_data \u001b[39m=\u001b[39m data\u001b[39m.\u001b[39mloc[data[\u001b[39m'\u001b[39;49m\u001b[39mexcercise\u001b[39;49m\u001b[39m'\u001b[39;49m] \u001b[39m==\u001b[39m \u001b[39m'\u001b[39m\u001b[39mRun \u001b[39m\u001b[39m'\u001b[39m]\n\u001b[0;32m     <a href='file:///c%3A/Users/User/Documents/personal/Version2/Python/visualizeSportData/visualplotter.py?line=18'>19</a>\u001b[0m \u001b[39m#Plot the total time spent running only where the 'distance' is 3\u001b[39;00m\n\u001b[0;32m     <a href='file:///c%3A/Users/User/Documents/personal/Version2/Python/visualizeSportData/visualplotter.py?line=19'>20</a>\u001b[0m run_data \u001b[39m=\u001b[39m run_data\u001b[39m.\u001b[39mloc[run_data[\u001b[39m'\u001b[39m\u001b[39mdistance\u001b[39m\u001b[39m'\u001b[39m] \u001b[39m==\u001b[39m \u001b[39m3\u001b[39m]\n",
      "File \u001b[1;32m~\\AppData\\Roaming\\Python\\Python311\\site-packages\\pandas\\core\\frame.py:3896\u001b[0m, in \u001b[0;36mDataFrame.__getitem__\u001b[1;34m(self, key)\u001b[0m\n\u001b[0;32m   <a href='file:///c%3A/Users/User/AppData/Roaming/Python/Python311/site-packages/pandas/core/frame.py?line=3893'>3894</a>\u001b[0m \u001b[39mif\u001b[39;00m \u001b[39mself\u001b[39m\u001b[39m.\u001b[39mcolumns\u001b[39m.\u001b[39mnlevels \u001b[39m>\u001b[39m \u001b[39m1\u001b[39m:\n\u001b[0;32m   <a href='file:///c%3A/Users/User/AppData/Roaming/Python/Python311/site-packages/pandas/core/frame.py?line=3894'>3895</a>\u001b[0m     \u001b[39mreturn\u001b[39;00m \u001b[39mself\u001b[39m\u001b[39m.\u001b[39m_getitem_multilevel(key)\n\u001b[1;32m-> <a href='file:///c%3A/Users/User/AppData/Roaming/Python/Python311/site-packages/pandas/core/frame.py?line=3895'>3896</a>\u001b[0m indexer \u001b[39m=\u001b[39m \u001b[39mself\u001b[39;49m\u001b[39m.\u001b[39;49mcolumns\u001b[39m.\u001b[39;49mget_loc(key)\n\u001b[0;32m   <a href='file:///c%3A/Users/User/AppData/Roaming/Python/Python311/site-packages/pandas/core/frame.py?line=3896'>3897</a>\u001b[0m \u001b[39mif\u001b[39;00m is_integer(indexer):\n\u001b[0;32m   <a href='file:///c%3A/Users/User/AppData/Roaming/Python/Python311/site-packages/pandas/core/frame.py?line=3897'>3898</a>\u001b[0m     indexer \u001b[39m=\u001b[39m [indexer]\n",
      "File \u001b[1;32m~\\AppData\\Roaming\\Python\\Python311\\site-packages\\pandas\\core\\indexes\\base.py:3797\u001b[0m, in \u001b[0;36mIndex.get_loc\u001b[1;34m(self, key)\u001b[0m\n\u001b[0;32m   <a href='file:///c%3A/Users/User/AppData/Roaming/Python/Python311/site-packages/pandas/core/indexes/base.py?line=3791'>3792</a>\u001b[0m     \u001b[39mif\u001b[39;00m \u001b[39misinstance\u001b[39m(casted_key, \u001b[39mslice\u001b[39m) \u001b[39mor\u001b[39;00m (\n\u001b[0;32m   <a href='file:///c%3A/Users/User/AppData/Roaming/Python/Python311/site-packages/pandas/core/indexes/base.py?line=3792'>3793</a>\u001b[0m         \u001b[39misinstance\u001b[39m(casted_key, abc\u001b[39m.\u001b[39mIterable)\n\u001b[0;32m   <a href='file:///c%3A/Users/User/AppData/Roaming/Python/Python311/site-packages/pandas/core/indexes/base.py?line=3793'>3794</a>\u001b[0m         \u001b[39mand\u001b[39;00m \u001b[39many\u001b[39m(\u001b[39misinstance\u001b[39m(x, \u001b[39mslice\u001b[39m) \u001b[39mfor\u001b[39;00m x \u001b[39min\u001b[39;00m casted_key)\n\u001b[0;32m   <a href='file:///c%3A/Users/User/AppData/Roaming/Python/Python311/site-packages/pandas/core/indexes/base.py?line=3794'>3795</a>\u001b[0m     ):\n\u001b[0;32m   <a href='file:///c%3A/Users/User/AppData/Roaming/Python/Python311/site-packages/pandas/core/indexes/base.py?line=3795'>3796</a>\u001b[0m         \u001b[39mraise\u001b[39;00m InvalidIndexError(key)\n\u001b[1;32m-> <a href='file:///c%3A/Users/User/AppData/Roaming/Python/Python311/site-packages/pandas/core/indexes/base.py?line=3796'>3797</a>\u001b[0m     \u001b[39mraise\u001b[39;00m \u001b[39mKeyError\u001b[39;00m(key) \u001b[39mfrom\u001b[39;00m \u001b[39merr\u001b[39;00m\n\u001b[0;32m   <a href='file:///c%3A/Users/User/AppData/Roaming/Python/Python311/site-packages/pandas/core/indexes/base.py?line=3797'>3798</a>\u001b[0m \u001b[39mexcept\u001b[39;00m \u001b[39mTypeError\u001b[39;00m:\n\u001b[0;32m   <a href='file:///c%3A/Users/User/AppData/Roaming/Python/Python311/site-packages/pandas/core/indexes/base.py?line=3798'>3799</a>\u001b[0m     \u001b[39m# If we have a listlike key, _check_indexing_error will raise\u001b[39;00m\n\u001b[0;32m   <a href='file:///c%3A/Users/User/AppData/Roaming/Python/Python311/site-packages/pandas/core/indexes/base.py?line=3799'>3800</a>\u001b[0m     \u001b[39m#  InvalidIndexError. Otherwise we fall through and re-raise\u001b[39;00m\n\u001b[0;32m   <a href='file:///c%3A/Users/User/AppData/Roaming/Python/Python311/site-packages/pandas/core/indexes/base.py?line=3800'>3801</a>\u001b[0m     \u001b[39m#  the TypeError.\u001b[39;00m\n\u001b[0;32m   <a href='file:///c%3A/Users/User/AppData/Roaming/Python/Python311/site-packages/pandas/core/indexes/base.py?line=3801'>3802</a>\u001b[0m     \u001b[39mself\u001b[39m\u001b[39m.\u001b[39m_check_indexing_error(key)\n",
      "\u001b[1;31mKeyError\u001b[0m: 'excercise'"
     ]
    }
   ],
   "source": [
    "data['group'].fillna(method='ffill', inplace=True)\n",
    "# same for column 'Date\n",
    "data['date'].fillna(method='ffill', inplace=True)\n",
    "\n",
    "\n",
    "#find all value of 'date' column where column 'excerciece' is 'run'\n",
    "run_data = data.loc[data['excercise'] == 'Run ']\n",
    "\n",
    "#Plot the total time spent running only where the 'distance' is 3\n",
    "run_data = run_data.loc[run_data['distance'] == 3]\n",
    "\n",
    "#plot on the x-axis the 'date' and on the y-axis the 'totalTime'\n",
    "plt.plot(run_data['date'], run_data['totalTime'], 'ro')\n",
    "plt.xlabel('Date')\n",
    "plt.ylabel('Total time (min)')\n",
    "plt.title('Total time spent running for 3km')\n",
    "plt.show()"
   ]
  }
 ],
 "metadata": {
  "kernelspec": {
   "display_name": "Python 3",
   "language": "python",
   "name": "python3"
  },
  "language_info": {
   "name": "python",
   "version": "3.11.5"
  }
 },
 "nbformat": 4,
 "nbformat_minor": 2
}
